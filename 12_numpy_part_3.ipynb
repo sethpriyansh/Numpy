{
 "cells": [
  {
   "cell_type": "markdown",
   "metadata": {},
   "source": [
    "# `np.sort()`"
   ]
  },
  {
   "cell_type": "code",
   "execution_count": 1,
   "metadata": {},
   "outputs": [
    {
     "data": {
      "text/plain": [
       "array([23, 53, 87, 85, 44,  6, 20, 64, 10, 35,  8, 67,  3, 30, 69])"
      ]
     },
     "execution_count": 1,
     "metadata": {},
     "output_type": "execute_result"
    }
   ],
   "source": [
    "import numpy as np\n",
    "a = np.random.randint(1,100,15)\n",
    "a\n"
   ]
  },
  {
   "cell_type": "code",
   "execution_count": 7,
   "metadata": {},
   "outputs": [
    {
     "data": {
      "text/plain": [
       "array([[76, 10, 80, 79],\n",
       "       [23,  7, 69,  7],\n",
       "       [95, 20, 22, 19],\n",
       "       [21, 22, 75, 46],\n",
       "       [15, 70,  7,  1],\n",
       "       [73,  8, 38, 68]])"
      ]
     },
     "execution_count": 7,
     "metadata": {},
     "output_type": "execute_result"
    }
   ],
   "source": [
    "b = np.random.randint(1,100,24).reshape(6,4)\n",
    "b"
   ]
  },
  {
   "cell_type": "code",
   "execution_count": 8,
   "metadata": {},
   "outputs": [
    {
     "data": {
      "text/plain": [
       "array([ 2,  3, 11, 33])"
      ]
     },
     "execution_count": 8,
     "metadata": {},
     "output_type": "execute_result"
    }
   ],
   "source": [
    "e = np.unique([11,2,2,2,33,3,33,11])\n",
    "np.unique(e)"
   ]
  },
  {
   "cell_type": "code",
   "execution_count": 10,
   "metadata": {},
   "outputs": [
    {
     "data": {
      "text/plain": [
       "array([23, 53, 87, 85, 44,  6, 20, 64, 10, 35,  8, 67,  3, 30, 69])"
      ]
     },
     "execution_count": 10,
     "metadata": {},
     "output_type": "execute_result"
    }
   ],
   "source": [
    "a"
   ]
  },
  {
   "cell_type": "markdown",
   "metadata": {},
   "source": [
    "# `.np.expand_dims()`"
   ]
  },
  {
   "cell_type": "code",
   "execution_count": 12,
   "metadata": {},
   "outputs": [
    {
     "data": {
      "text/plain": [
       "array([[23, 53, 87, 85, 44,  6, 20, 64, 10, 35,  8, 67,  3, 30, 69]])"
      ]
     },
     "execution_count": 12,
     "metadata": {},
     "output_type": "execute_result"
    }
   ],
   "source": [
    "v = np.expand_dims(a, axis=0)\n",
    "v"
   ]
  },
  {
   "cell_type": "code",
   "execution_count": 14,
   "metadata": {},
   "outputs": [
    {
     "name": "stdout",
     "output_type": "stream",
     "text": [
      "1\n",
      "\n",
      "2\n"
     ]
    }
   ],
   "source": [
    "print(a.ndim)\n",
    "print()\n",
    "print(v.ndim)"
   ]
  },
  {
   "cell_type": "code",
   "execution_count": 17,
   "metadata": {},
   "outputs": [
    {
     "name": "stdout",
     "output_type": "stream",
     "text": [
      "1\n",
      "\n",
      "2\n"
     ]
    }
   ],
   "source": [
    "y = np.expand_dims(a, axis = 1)\n",
    "print(a.ndim)\n",
    "print()\n",
    "print(y.ndim)"
   ]
  },
  {
   "cell_type": "markdown",
   "metadata": {},
   "source": [
    "# `.np.where()`\n",
    "finds all indices..."
   ]
  },
  {
   "cell_type": "code",
   "execution_count": 18,
   "metadata": {},
   "outputs": [
    {
     "data": {
      "text/plain": [
       "(array([ 1,  2,  3,  7, 11, 14]),)"
      ]
     },
     "execution_count": 18,
     "metadata": {},
     "output_type": "execute_result"
    }
   ],
   "source": [
    "np.where(a>50)"
   ]
  },
  {
   "cell_type": "code",
   "execution_count": 20,
   "metadata": {},
   "outputs": [
    {
     "data": {
      "text/plain": [
       "array([53, 87, 85, 64, 67, 69])"
      ]
     },
     "execution_count": 20,
     "metadata": {},
     "output_type": "execute_result"
    }
   ],
   "source": [
    "c = a[a>50]\n",
    "c"
   ]
  },
  {
   "cell_type": "markdown",
   "metadata": {},
   "source": [
    "### Replace all values > 50 with..."
   ]
  },
  {
   "cell_type": "code",
   "execution_count": 21,
   "metadata": {},
   "outputs": [
    {
     "data": {
      "text/plain": [
       "array([23,  0,  0,  0, 44,  6, 20,  0, 10, 35,  8,  0,  3, 30,  0])"
      ]
     },
     "execution_count": 21,
     "metadata": {},
     "output_type": "execute_result"
    }
   ],
   "source": [
    "np.where(a>50,0,a)"
   ]
  },
  {
   "cell_type": "markdown",
   "metadata": {},
   "source": [
    "### Replace all even numbers from zero"
   ]
  },
  {
   "cell_type": "code",
   "execution_count": 23,
   "metadata": {},
   "outputs": [
    {
     "name": "stdout",
     "output_type": "stream",
     "text": [
      "[23 53 87 85 44  6 20 64 10 35  8 67  3 30 69]\n",
      "\n"
     ]
    },
    {
     "data": {
      "text/plain": [
       "array([23, 53, 87, 85,  0,  0,  0,  0,  0, 35,  0, 67,  3,  0, 69])"
      ]
     },
     "execution_count": 23,
     "metadata": {},
     "output_type": "execute_result"
    }
   ],
   "source": [
    "print(a)\n",
    "print()\n",
    "np.where(a%2==0,0,a)"
   ]
  },
  {
   "cell_type": "code",
   "execution_count": 25,
   "metadata": {},
   "outputs": [
    {
     "name": "stdout",
     "output_type": "stream",
     "text": [
      "[23 53 87 85 44  6 20 64 10 35  8 67  3 30 69]\n",
      "\n"
     ]
    },
    {
     "data": {
      "text/plain": [
       "array([ 0,  0,  0,  0, 44,  6, 20, 64, 10,  0,  8,  0,  0, 30,  0])"
      ]
     },
     "execution_count": 25,
     "metadata": {},
     "output_type": "execute_result"
    }
   ],
   "source": [
    "print(a)\n",
    "print()\n",
    "np.where(a%2!=0,0,a)"
   ]
  },
  {
   "cell_type": "markdown",
   "metadata": {},
   "source": [
    "# `np.argmax()`"
   ]
  },
  {
   "cell_type": "code",
   "execution_count": 27,
   "metadata": {},
   "outputs": [
    {
     "data": {
      "text/plain": [
       "array([23, 53, 87, 85, 44,  6, 20, 64, 10, 35,  8, 67,  3, 30, 69])"
      ]
     },
     "execution_count": 27,
     "metadata": {},
     "output_type": "execute_result"
    }
   ],
   "source": [
    "a"
   ]
  },
  {
   "cell_type": "code",
   "execution_count": 29,
   "metadata": {},
   "outputs": [
    {
     "name": "stdout",
     "output_type": "stream",
     "text": [
      "value  87\n",
      "\n",
      "index  2\n"
     ]
    }
   ],
   "source": [
    "print(\"value \", np.max(a))\n",
    "print()\n",
    "print(\"index \", np.argmax(a))"
   ]
  },
  {
   "cell_type": "code",
   "execution_count": 30,
   "metadata": {},
   "outputs": [
    {
     "name": "stdout",
     "output_type": "stream",
     "text": [
      "[[76 10 80 79]\n",
      " [23  7 69  7]\n",
      " [95 20 22 19]\n",
      " [21 22 75 46]\n",
      " [15 70  7  1]\n",
      " [73  8 38 68]]\n",
      "\n",
      "95\n",
      "\n",
      "8\n"
     ]
    }
   ],
   "source": [
    "print(b)\n",
    "print()\n",
    "print(np.max(b))\n",
    "print()\n",
    "print(np.argmax(b))"
   ]
  },
  {
   "cell_type": "markdown",
   "metadata": {},
   "source": [
    "# Column-wise"
   ]
  },
  {
   "cell_type": "code",
   "execution_count": 31,
   "metadata": {},
   "outputs": [
    {
     "data": {
      "text/plain": [
       "array([2, 4, 0, 0])"
      ]
     },
     "execution_count": 31,
     "metadata": {},
     "output_type": "execute_result"
    }
   ],
   "source": [
    "np.argmax(b,axis=0)"
   ]
  },
  {
   "cell_type": "markdown",
   "metadata": {},
   "source": [
    "# Row-wise"
   ]
  },
  {
   "cell_type": "code",
   "execution_count": 32,
   "metadata": {},
   "outputs": [
    {
     "data": {
      "text/plain": [
       "array([2, 2, 0, 2, 1, 0])"
      ]
     },
     "execution_count": 32,
     "metadata": {},
     "output_type": "execute_result"
    }
   ],
   "source": [
    "np.argmax(b,axis=1)"
   ]
  },
  {
   "cell_type": "markdown",
   "metadata": {},
   "source": [
    "# `np.argmin()`"
   ]
  },
  {
   "cell_type": "code",
   "execution_count": 33,
   "metadata": {},
   "outputs": [
    {
     "name": "stdout",
     "output_type": "stream",
     "text": [
      "[23 53 87 85 44  6 20 64 10 35  8 67  3 30 69]\n",
      "value  3\n",
      "\n",
      "index  12\n"
     ]
    }
   ],
   "source": [
    "print(a)\n",
    "print(\"value \", np.min(a))\n",
    "print()\n",
    "print(\"index \", np.argmin(a))"
   ]
  },
  {
   "cell_type": "markdown",
   "metadata": {},
   "source": [
    "# `np.cumsum()`"
   ]
  },
  {
   "cell_type": "code",
   "execution_count": 35,
   "metadata": {},
   "outputs": [
    {
     "name": "stdout",
     "output_type": "stream",
     "text": [
      "[23 53 87 85 44  6 20 64 10 35  8 67  3 30 69]\n",
      "\n",
      "[ 23  76 163 248 292 298 318 382 392 427 435 502 505 535 604]\n"
     ]
    }
   ],
   "source": [
    "print(a)\n",
    "print()\n",
    "print(np.cumsum(a))"
   ]
  },
  {
   "cell_type": "code",
   "execution_count": 36,
   "metadata": {},
   "outputs": [
    {
     "name": "stdout",
     "output_type": "stream",
     "text": [
      "[[76 10 80 79]\n",
      " [23  7 69  7]\n",
      " [95 20 22 19]\n",
      " [21 22 75 46]\n",
      " [15 70  7  1]\n",
      " [73  8 38 68]]\n",
      "\n",
      "[ 76  86 166 245 268 275 344 351 446 466 488 507 528 550 625 671 686 756\n",
      " 763 764 837 845 883 951]\n"
     ]
    }
   ],
   "source": [
    "print(b)\n",
    "print()\n",
    "print(np.cumsum(b))"
   ]
  },
  {
   "cell_type": "code",
   "execution_count": 37,
   "metadata": {},
   "outputs": [
    {
     "name": "stdout",
     "output_type": "stream",
     "text": [
      "[[76 10 80 79]\n",
      " [23  7 69  7]\n",
      " [95 20 22 19]\n",
      " [21 22 75 46]\n",
      " [15 70  7  1]\n",
      " [73  8 38 68]]\n",
      "\n",
      "[[ 76  10  80  79]\n",
      " [ 99  17 149  86]\n",
      " [194  37 171 105]\n",
      " [215  59 246 151]\n",
      " [230 129 253 152]\n",
      " [303 137 291 220]]\n"
     ]
    }
   ],
   "source": [
    "print(b)\n",
    "print()\n",
    "print(np.cumsum(b,axis=0))"
   ]
  },
  {
   "cell_type": "markdown",
   "metadata": {},
   "source": [
    "## percentile stuff..."
   ]
  },
  {
   "cell_type": "code",
   "execution_count": 38,
   "metadata": {},
   "outputs": [
    {
     "name": "stdout",
     "output_type": "stream",
     "text": [
      "[23 53 87 85 44  6 20 64 10 35  8 67  3 30 69]\n",
      "\n",
      "87.0\n"
     ]
    }
   ],
   "source": [
    "print(a)\n",
    "print()\n",
    "print(np.percentile(a,100))"
   ]
  },
  {
   "cell_type": "code",
   "execution_count": 39,
   "metadata": {},
   "outputs": [
    {
     "name": "stdout",
     "output_type": "stream",
     "text": [
      "35.0\n"
     ]
    }
   ],
   "source": [
    "print(np.percentile(a,50))"
   ]
  },
  {
   "cell_type": "code",
   "execution_count": 41,
   "metadata": {},
   "outputs": [
    {
     "data": {
      "text/plain": [
       "35.0"
      ]
     },
     "execution_count": 41,
     "metadata": {},
     "output_type": "execute_result"
    }
   ],
   "source": [
    "np.median(a)"
   ]
  },
  {
   "cell_type": "markdown",
   "metadata": {},
   "source": [
    "# <p style = \"text-align: center;\">`np.flip()`</p>"
   ]
  },
  {
   "cell_type": "code",
   "execution_count": 43,
   "metadata": {},
   "outputs": [
    {
     "data": {
      "text/plain": [
       "array([23, 53, 87, 85, 44,  6, 20, 64, 10, 35,  8, 67,  3, 30, 69])"
      ]
     },
     "execution_count": 43,
     "metadata": {},
     "output_type": "execute_result"
    }
   ],
   "source": [
    "a"
   ]
  },
  {
   "cell_type": "code",
   "execution_count": 45,
   "metadata": {},
   "outputs": [
    {
     "data": {
      "text/plain": [
       "array([69, 30,  3, 67,  8, 35, 10, 64, 20,  6, 44, 85, 87, 53, 23])"
      ]
     },
     "execution_count": 45,
     "metadata": {},
     "output_type": "execute_result"
    }
   ],
   "source": [
    "np.flip(a)"
   ]
  },
  {
   "cell_type": "code",
   "execution_count": 47,
   "metadata": {},
   "outputs": [
    {
     "data": {
      "text/plain": [
       "array([[76, 10, 80, 79],\n",
       "       [23,  7, 69,  7],\n",
       "       [95, 20, 22, 19],\n",
       "       [21, 22, 75, 46],\n",
       "       [15, 70,  7,  1],\n",
       "       [73,  8, 38, 68]])"
      ]
     },
     "execution_count": 47,
     "metadata": {},
     "output_type": "execute_result"
    }
   ],
   "source": [
    "b"
   ]
  },
  {
   "cell_type": "code",
   "execution_count": 48,
   "metadata": {},
   "outputs": [
    {
     "data": {
      "text/plain": [
       "array([[68, 38,  8, 73],\n",
       "       [ 1,  7, 70, 15],\n",
       "       [46, 75, 22, 21],\n",
       "       [19, 22, 20, 95],\n",
       "       [ 7, 69,  7, 23],\n",
       "       [79, 80, 10, 76]])"
      ]
     },
     "execution_count": 48,
     "metadata": {},
     "output_type": "execute_result"
    }
   ],
   "source": [
    "np.flip(b)"
   ]
  },
  {
   "cell_type": "markdown",
   "metadata": {},
   "source": [
    "# Column-flipping"
   ]
  },
  {
   "cell_type": "code",
   "execution_count": 50,
   "metadata": {},
   "outputs": [
    {
     "name": "stdout",
     "output_type": "stream",
     "text": [
      "[[76 10 80 79]\n",
      " [23  7 69  7]\n",
      " [95 20 22 19]\n",
      " [21 22 75 46]\n",
      " [15 70  7  1]\n",
      " [73  8 38 68]]\n",
      "\n"
     ]
    },
    {
     "data": {
      "text/plain": [
       "array([[73,  8, 38, 68],\n",
       "       [15, 70,  7,  1],\n",
       "       [21, 22, 75, 46],\n",
       "       [95, 20, 22, 19],\n",
       "       [23,  7, 69,  7],\n",
       "       [76, 10, 80, 79]])"
      ]
     },
     "execution_count": 50,
     "metadata": {},
     "output_type": "execute_result"
    }
   ],
   "source": [
    "print(b)\n",
    "print()\n",
    "np.flip(b,axis=0)"
   ]
  },
  {
   "cell_type": "markdown",
   "metadata": {},
   "source": [
    "# `np.put()`"
   ]
  },
  {
   "cell_type": "code",
   "execution_count": 52,
   "metadata": {},
   "outputs": [
    {
     "data": {
      "text/plain": [
       "array([23, 53, 87, 85, 44,  6, 20, 64, 10, 35,  8, 67,  3, 30, 69])"
      ]
     },
     "execution_count": 52,
     "metadata": {},
     "output_type": "execute_result"
    }
   ],
   "source": [
    "a"
   ]
  },
  {
   "cell_type": "markdown",
   "metadata": {},
   "source": [
    "### _first give the array then index after._"
   ]
  },
  {
   "cell_type": "code",
   "execution_count": 55,
   "metadata": {},
   "outputs": [
    {
     "data": {
      "text/plain": [
       "array([110, 530,  87,  85,  44,   6,  20,  64,  10,  35,   8,  67,   3,\n",
       "        30,  69])"
      ]
     },
     "execution_count": 55,
     "metadata": {},
     "output_type": "execute_result"
    }
   ],
   "source": [
    "np.put(a,[0,1], [110,530])\n",
    "a"
   ]
  },
  {
   "cell_type": "markdown",
   "metadata": {},
   "source": [
    "# <p style = \"text-align: center;\"> `np.delete()`</p>"
   ]
  },
  {
   "cell_type": "code",
   "execution_count": 56,
   "metadata": {},
   "outputs": [
    {
     "data": {
      "text/plain": [
       "array([110, 530,  87,  85,  44,   6,  20,  64,  10,  35,   8,  67,   3,\n",
       "        30,  69])"
      ]
     },
     "execution_count": 56,
     "metadata": {},
     "output_type": "execute_result"
    }
   ],
   "source": [
    "a"
   ]
  },
  {
   "cell_type": "markdown",
   "metadata": {},
   "source": [
    "### _delete first item_"
   ]
  },
  {
   "cell_type": "code",
   "execution_count": 58,
   "metadata": {},
   "outputs": [
    {
     "data": {
      "text/plain": [
       "array([530,  87,  85,  44,   6,  20,  64,  10,  35,   8,  67,   3,  30,\n",
       "        69])"
      ]
     },
     "execution_count": 58,
     "metadata": {},
     "output_type": "execute_result"
    }
   ],
   "source": [
    "np.delete(a,0)"
   ]
  },
  {
   "cell_type": "code",
   "execution_count": 59,
   "metadata": {},
   "outputs": [
    {
     "data": {
      "text/plain": [
       "array([530,  87,   6,  20,  64,  10,  35,   8,  67,   3,  30,  69])"
      ]
     },
     "execution_count": 59,
     "metadata": {},
     "output_type": "execute_result"
    }
   ],
   "source": [
    "np.delete(a,[0,4,3])"
   ]
  },
  {
   "cell_type": "markdown",
   "metadata": {},
   "source": [
    "# <p style = \"text-align: center;\">`np.clip()`</p>\n"
   ]
  },
  {
   "cell_type": "code",
   "execution_count": 61,
   "metadata": {},
   "outputs": [
    {
     "data": {
      "text/plain": [
       "array([110, 530,  87,  85,  44,   6,  20,  64,  10,  35,   8,  67,   3,\n",
       "        30,  69])"
      ]
     },
     "execution_count": 61,
     "metadata": {},
     "output_type": "execute_result"
    }
   ],
   "source": [
    "a"
   ]
  },
  {
   "cell_type": "code",
   "execution_count": 62,
   "metadata": {},
   "outputs": [
    {
     "data": {
      "text/plain": [
       "array([75, 75, 75, 75, 44, 25, 25, 64, 25, 35, 25, 67, 25, 30, 69])"
      ]
     },
     "execution_count": 62,
     "metadata": {},
     "output_type": "execute_result"
    }
   ],
   "source": [
    "np.clip(a,a_min=25,a_max=75)"
   ]
  }
 ],
 "metadata": {
  "kernelspec": {
   "display_name": ".venv",
   "language": "python",
   "name": "python3"
  },
  "language_info": {
   "codemirror_mode": {
    "name": "ipython",
    "version": 3
   },
   "file_extension": ".py",
   "mimetype": "text/x-python",
   "name": "python",
   "nbconvert_exporter": "python",
   "pygments_lexer": "ipython3",
   "version": "3.10.12"
  }
 },
 "nbformat": 4,
 "nbformat_minor": 2
}
